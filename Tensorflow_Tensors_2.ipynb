{
  "nbformat": 4,
  "nbformat_minor": 0,
  "metadata": {
    "colab": {
      "provenance": [],
      "authorship_tag": "ABX9TyNRuG2No/a7I8jwOeHpZ/f0",
      "include_colab_link": true
    },
    "kernelspec": {
      "name": "python3",
      "display_name": "Python 3"
    },
    "language_info": {
      "name": "python"
    }
  },
  "cells": [
    {
      "cell_type": "markdown",
      "metadata": {
        "id": "view-in-github",
        "colab_type": "text"
      },
      "source": [
        "<a href=\"https://colab.research.google.com/github/juanpajedrez/CS-224N-Emotion-Segmentation/blob/main/Tensorflow_Tensors_2.ipynb\" target=\"_parent\"><img src=\"https://colab.research.google.com/assets/colab-badge.svg\" alt=\"Open In Colab\"/></a>"
      ]
    },
    {
      "cell_type": "markdown",
      "source": [
        "### Tensorflow and mathematical operations\n",
        "\n",
        "Here, we show the tf.math to use for mathematical operations."
      ],
      "metadata": {
        "id": "IJNT7u-UVdMi"
      }
    },
    {
      "cell_type": "code",
      "source": [
        "import tensorflow as tf"
      ],
      "metadata": {
        "id": "74EpEeVYVlfS"
      },
      "execution_count": 1,
      "outputs": []
    },
    {
      "cell_type": "code",
      "source": [
        "# real number\n",
        "x_abs = tf.constant([-2.25, 3.25])\n",
        "tf.abs(x_abs)"
      ],
      "metadata": {
        "colab": {
          "base_uri": "https://localhost:8080/"
        },
        "id": "goQOS25UWhIQ",
        "outputId": "515a96d9-3bfc-49a9-a940-f0e91a62c436"
      },
      "execution_count": 2,
      "outputs": [
        {
          "output_type": "execute_result",
          "data": {
            "text/plain": [
              "<tf.Tensor: shape=(2,), dtype=float32, numpy=array([2.25, 3.25], dtype=float32)>"
            ]
          },
          "metadata": {},
          "execution_count": 2
        }
      ]
    },
    {
      "cell_type": "code",
      "source": [
        "tf.abs(tf.constant(-0.3))"
      ],
      "metadata": {
        "colab": {
          "base_uri": "https://localhost:8080/"
        },
        "id": "0UcDOwQOWsgQ",
        "outputId": "fd7978e1-363e-4959-fb23-f54d3f56ecba"
      },
      "execution_count": 3,
      "outputs": [
        {
          "output_type": "execute_result",
          "data": {
            "text/plain": [
              "<tf.Tensor: shape=(), dtype=float32, numpy=0.3>"
            ]
          },
          "metadata": {},
          "execution_count": 3
        }
      ]
    },
    {
      "cell_type": "code",
      "source": [
        "# complex number\n",
        "x_abs_complex = tf.constant([[-2.25 + 4.75j], [-3.25 + 5.75j]])\n",
        "tf.abs(x_abs_complex)"
      ],
      "metadata": {
        "colab": {
          "base_uri": "https://localhost:8080/"
        },
        "id": "-jQTYCumW4Rf",
        "outputId": "fd092064-7c30-4d6e-ef7e-824ada5b4464"
      },
      "execution_count": 4,
      "outputs": [
        {
          "output_type": "execute_result",
          "data": {
            "text/plain": [
              "<tf.Tensor: shape=(2, 1), dtype=float64, numpy=\n",
              "array([[5.25594901],\n",
              "       [6.60492241]])>"
            ]
          },
          "metadata": {},
          "execution_count": 4
        }
      ]
    },
    {
      "cell_type": "code",
      "source": [
        "tf.sqrt((-2.25)**2 + (4.75)**2)"
      ],
      "metadata": {
        "colab": {
          "base_uri": "https://localhost:8080/"
        },
        "id": "PbwWHUnrcGOg",
        "outputId": "f027c848-d41a-4aab-a128-38e3a7a99f89"
      },
      "execution_count": 5,
      "outputs": [
        {
          "output_type": "execute_result",
          "data": {
            "text/plain": [
              "<tf.Tensor: shape=(), dtype=float32, numpy=5.255949>"
            ]
          },
          "metadata": {},
          "execution_count": 5
        }
      ]
    },
    {
      "cell_type": "code",
      "source": [
        "x_1 = tf.constant([5,3,6,6,4,6], dtype = tf.float32)\n",
        "x_2 = tf.constant([7,6,2,6,0,11], dtype = tf.float32)\n",
        "\n",
        "#Add element wise, multiply, subtract, dividie\n",
        "print(tf.add(x_1, x_2))\n",
        "print(tf.subtract(x_1, x_2))\n",
        "print(tf.multiply(x_1, x_2))\n",
        "print(tf.divide(x_1, x_2))\n",
        "print(tf.math.divide_no_nan(x_1, x_2, name=None))"
      ],
      "metadata": {
        "colab": {
          "base_uri": "https://localhost:8080/"
        },
        "id": "flwdbbrwcYTG",
        "outputId": "a1d0e4ec-dfaa-4d11-f2d2-5316aefa03b4"
      },
      "execution_count": 6,
      "outputs": [
        {
          "output_type": "stream",
          "name": "stdout",
          "text": [
            "tf.Tensor([12.  9.  8. 12.  4. 17.], shape=(6,), dtype=float32)\n",
            "tf.Tensor([-2. -3.  4.  0.  4. -5.], shape=(6,), dtype=float32)\n",
            "tf.Tensor([35. 18. 12. 36.  0. 66.], shape=(6,), dtype=float32)\n",
            "tf.Tensor([0.71428573 0.5        3.         1.                inf 0.54545456], shape=(6,), dtype=float32)\n",
            "tf.Tensor([0.71428573 0.5        3.         1.         0.         0.54545456], shape=(6,), dtype=float32)\n"
          ]
        }
      ]
    },
    {
      "cell_type": "markdown",
      "source": [
        "### Broadcasting\n",
        "Perform some mathematical operations to showcase the power of broadcasting"
      ],
      "metadata": {
        "id": "fOcM_oHudxxl"
      }
    },
    {
      "cell_type": "code",
      "source": [
        "#1D tensors\n",
        "x_1 = tf.constant([5,3,6,6,4,6], dtype = tf.float32)\n",
        "x_2 = tf.constant([7], dtype = tf.float32)\n",
        "x_2_stretched = tf.constant([7,7,7,7,7,7], dtype = tf.float32)\n",
        "\n",
        "#Divide with only one value, and with stretched to show broadcasting.\n",
        "print(tf.math.divide_no_nan(x_1, x_2, name=None))\n",
        "print(tf.math.divide_no_nan(x_1, x_2_stretched, name = None))"
      ],
      "metadata": {
        "colab": {
          "base_uri": "https://localhost:8080/"
        },
        "id": "Z8gLFO80dn4X",
        "outputId": "9b94d9b5-9bc2-4f22-81bf-c29b7f796fe9"
      },
      "execution_count": 7,
      "outputs": [
        {
          "output_type": "stream",
          "name": "stdout",
          "text": [
            "tf.Tensor([0.71428573 0.42857143 0.85714287 0.85714287 0.5714286  0.85714287], shape=(6,), dtype=float32)\n",
            "tf.Tensor([0.71428573 0.42857143 0.85714287 0.85714287 0.5714286  0.85714287], shape=(6,), dtype=float32)\n"
          ]
        }
      ]
    },
    {
      "cell_type": "code",
      "source": [
        "#2D tensors\n",
        "x_1 = tf.constant([[5,3,6,6,4,6]], dtype = tf.float32)\n",
        "x_2 = tf.constant([[7], [5], [3]], dtype = tf.float32)\n",
        "\n",
        "#Dimensions of length 1 would be stretched\n",
        "print(x_1.shape)\n",
        "print(x_2.shape)\n",
        "\n",
        "#When multiplying, X_1 is stretched from (1,6)-> (3,6)\n",
        "#X2 would be stretched from (3,1) -> (3,6)\n",
        "print(tf.math.multiply(x_1, x_2, name=None))"
      ],
      "metadata": {
        "colab": {
          "base_uri": "https://localhost:8080/"
        },
        "id": "0KNvEu4seZWu",
        "outputId": "d20a8101-d145-4949-f6ea-2a0e5d895661"
      },
      "execution_count": 8,
      "outputs": [
        {
          "output_type": "stream",
          "name": "stdout",
          "text": [
            "(1, 6)\n",
            "(3, 1)\n",
            "tf.Tensor(\n",
            "[[35. 21. 42. 42. 28. 42.]\n",
            " [25. 15. 30. 30. 20. 30.]\n",
            " [15.  9. 18. 18. 12. 18.]], shape=(3, 6), dtype=float32)\n"
          ]
        }
      ]
    },
    {
      "cell_type": "markdown",
      "source": [
        "### Maximum, Minimum, argmax, and argmin\n",
        "\n",
        "We are gonna see the usage of the max, min, argmax, and argmin methods."
      ],
      "metadata": {
        "id": "uvA0kzJEfaZk"
      }
    },
    {
      "cell_type": "code",
      "source": [
        "#Maximum between two tensors\n",
        "x = tf.constant([4., 2., -3., 2])\n",
        "y = tf.constant([-2., 0., 2., 5.])\n",
        "\n",
        "#Perform the maximum and minimum\n",
        "print(tf.math.maximum(x, y))\n",
        "print(tf.math.minimum(x, y))"
      ],
      "metadata": {
        "colab": {
          "base_uri": "https://localhost:8080/"
        },
        "id": "H559P3PQdL2y",
        "outputId": "8e271a50-d707-4ec2-e30c-fd1d4454b980"
      },
      "execution_count": 9,
      "outputs": [
        {
          "output_type": "stream",
          "name": "stdout",
          "text": [
            "tf.Tensor([4. 2. 2. 5.], shape=(4,), dtype=float32)\n",
            "tf.Tensor([-2.  0. -3.  2.], shape=(4,), dtype=float32)\n"
          ]
        }
      ]
    },
    {
      "cell_type": "code",
      "source": [
        "# Find the index where the max and min are using argmax and argmin\n",
        "# For 1D tensors\n",
        "x_argmax = tf.constant([200, 120, 130, 3, 6])\n",
        "print(x_argmax)\n",
        "print(tf.math.argmax(x_argmax))\n",
        "print(tf.math.argmin(x_argmax))\n",
        "\n",
        "x_argmax = tf.constant([200, 120, 1300, 3, 6])\n",
        "print(x_argmax)\n",
        "print(tf.math.argmax(x_argmax))\n",
        "print(tf.math.argmin(x_argmax))"
      ],
      "metadata": {
        "colab": {
          "base_uri": "https://localhost:8080/"
        },
        "id": "oQvp2gPhgaDu",
        "outputId": "47044ada-6f58-4bec-c5b9-636d0a535e78"
      },
      "execution_count": 10,
      "outputs": [
        {
          "output_type": "stream",
          "name": "stdout",
          "text": [
            "tf.Tensor([200 120 130   3   6], shape=(5,), dtype=int32)\n",
            "tf.Tensor(0, shape=(), dtype=int64)\n",
            "tf.Tensor(3, shape=(), dtype=int64)\n",
            "tf.Tensor([ 200  120 1300    3    6], shape=(5,), dtype=int32)\n",
            "tf.Tensor(2, shape=(), dtype=int64)\n",
            "tf.Tensor(3, shape=(), dtype=int64)\n"
          ]
        }
      ]
    },
    {
      "cell_type": "code",
      "source": [
        "# Find the index where the max and min are using argmax and argmin\n",
        "# For 2D tensors\n",
        "x_argmax = tf.constant([[2, 20, 30, 3, 6],\n",
        "                        [3, 11, 16, 1, 8],\n",
        "                        [14, 45, 23, 5, 27]])\n",
        "#Get the shape\n",
        "print(x_argmax.shape)\n",
        "\n",
        "#Specify axis 0 (rows)\n",
        "print(tf.math.argmax(x_argmax, 0))\n",
        "print(tf.math.argmin(x_argmax, 0))\n",
        "\n",
        "#Specify to axis 1 (cols)\n",
        "print(tf.math.argmax(x_argmax, 1))\n",
        "print(tf.math.argmin(x_argmax, 1))"
      ],
      "metadata": {
        "colab": {
          "base_uri": "https://localhost:8080/"
        },
        "id": "JQyxpDxugJ84",
        "outputId": "529a6d96-1b9d-4b25-b05b-06fd189d1c21"
      },
      "execution_count": 11,
      "outputs": [
        {
          "output_type": "stream",
          "name": "stdout",
          "text": [
            "(3, 5)\n",
            "tf.Tensor([2 2 0 2 2], shape=(5,), dtype=int64)\n",
            "tf.Tensor([0 1 1 1 0], shape=(5,), dtype=int64)\n",
            "tf.Tensor([2 2 1], shape=(3,), dtype=int64)\n",
            "tf.Tensor([0 3 3], shape=(3,), dtype=int64)\n"
          ]
        }
      ]
    },
    {
      "cell_type": "code",
      "source": [
        "# Find the index where the max and min are using argmax and argmin\n",
        "# For 3D tensors\n",
        "x_argmax = tf.constant([[[2, 20, 30, 3, 6],\n",
        "                         [5, 20, 10, 2, 3]],\n",
        "                        [[3, 11, 16, 1, 8],\n",
        "                         [5, 3, 2, 10, 20]],\n",
        "                        [[14, 45, 23, 5, 27],\n",
        "                         [10, 12, 4, 20, 2]]])\n",
        "\n",
        "# Get the shape\n",
        "print(x_argmax.shape)\n",
        "\n",
        "#Specify axis 0 (Third dimension)\n",
        "print(tf.math.argmax(x_argmax, 0))\n",
        "\n",
        "#Specify to axis 1 (Second dimension)\n",
        "print(tf.math.argmax(x_argmax, 1))\n",
        "\n",
        "#Specify to axis 2 (Third dimension)\n",
        "print(tf.math.argmax(x_argmax, 2))"
      ],
      "metadata": {
        "colab": {
          "base_uri": "https://localhost:8080/"
        },
        "id": "OcUMfVMJiO49",
        "outputId": "5e0fb560-29ba-4c2a-bcec-6e1409690ed9"
      },
      "execution_count": 12,
      "outputs": [
        {
          "output_type": "stream",
          "name": "stdout",
          "text": [
            "(3, 2, 5)\n",
            "tf.Tensor(\n",
            "[[2 2 0 2 2]\n",
            " [2 0 0 2 1]], shape=(2, 5), dtype=int64)\n",
            "tf.Tensor(\n",
            "[[1 0 0 0 0]\n",
            " [1 0 0 1 1]\n",
            " [0 0 0 1 0]], shape=(3, 5), dtype=int64)\n",
            "tf.Tensor(\n",
            "[[2 1]\n",
            " [2 4]\n",
            " [1 3]], shape=(3, 2), dtype=int64)\n"
          ]
        }
      ]
    },
    {
      "cell_type": "markdown",
      "source": [
        "### Power, reduce_sum, reduce_max, reduce_mean\n",
        "\n",
        "Perform power and sum across a specific dimension"
      ],
      "metadata": {
        "id": "cQ2zR2-cmdZ7"
      }
    },
    {
      "cell_type": "code",
      "source": [
        "#Send the power\n",
        "x = tf.constant([[2, 2], [3, 3]])\n",
        "y = tf.constant([[3, 0], [1, 4]])\n",
        "tf.pow(x, y) #[[256, 65536], [9, 27]]"
      ],
      "metadata": {
        "colab": {
          "base_uri": "https://localhost:8080/"
        },
        "id": "L9Ceb6CWmld4",
        "outputId": "dc065e0a-376f-49c0-9309-71d55c7a73e3"
      },
      "execution_count": 13,
      "outputs": [
        {
          "output_type": "execute_result",
          "data": {
            "text/plain": [
              "<tf.Tensor: shape=(2, 2), dtype=int32, numpy=\n",
              "array([[ 8,  1],\n",
              "       [ 3, 81]], dtype=int32)>"
            ]
          },
          "metadata": {},
          "execution_count": 13
        }
      ]
    },
    {
      "cell_type": "code",
      "source": [
        "tf.pow(tf.constant(2), tf.constant(3))"
      ],
      "metadata": {
        "colab": {
          "base_uri": "https://localhost:8080/"
        },
        "id": "mZrQJOoTqMzF",
        "outputId": "246beac9-8041-47d2-8474-c307176065dd"
      },
      "execution_count": 14,
      "outputs": [
        {
          "output_type": "execute_result",
          "data": {
            "text/plain": [
              "<tf.Tensor: shape=(), dtype=int32, numpy=8>"
            ]
          },
          "metadata": {},
          "execution_count": 14
        }
      ]
    },
    {
      "cell_type": "code",
      "source": [
        "tensor_two_d = tf.constant([\n",
        "    [1,-2,0],\n",
        "    [3,5,100],\n",
        "    [1,5,6],\n",
        "    [2,3,8]\n",
        "], dtype = tf.float16)\n",
        "\n",
        "#Print the shape\n",
        "print(tensor_two_d.shape)\n",
        "\n",
        "#Pass the 2D tensor and reduce sum, max\n",
        "print(tf.math.reduce_sum(\n",
        "    tensor_two_d, axis=0, keepdims=False, name=None\n",
        "))\n",
        "print(tf.math.reduce_max(\n",
        "    tensor_two_d, axis=0, keepdims=False, name=None\n",
        "))\n",
        "print(tf.math.reduce_mean(\n",
        "    tensor_two_d, axis=0, keepdims=False, name=None\n",
        "))"
      ],
      "metadata": {
        "colab": {
          "base_uri": "https://localhost:8080/"
        },
        "id": "XUdX7eL_xmA7",
        "outputId": "03139e58-de0a-4b64-abaa-3d59b0a4fe2f"
      },
      "execution_count": 15,
      "outputs": [
        {
          "output_type": "stream",
          "name": "stdout",
          "text": [
            "(4, 3)\n",
            "tf.Tensor([  7.  11. 114.], shape=(3,), dtype=float16)\n",
            "tf.Tensor([  3.   5. 100.], shape=(3,), dtype=float16)\n",
            "tf.Tensor([ 1.75  2.75 28.5 ], shape=(3,), dtype=float16)\n"
          ]
        }
      ]
    },
    {
      "cell_type": "code",
      "source": [
        "#Pass the 2D tensor and reduce sum, max\n",
        "print(tf.math.reduce_sum(\n",
        "    tensor_two_d, axis=1, keepdims=False, name=None\n",
        "))\n",
        "print(tf.math.reduce_max(\n",
        "    tensor_two_d, axis=1, keepdims=False, name=None\n",
        "))\n",
        "print(tf.math.reduce_mean(\n",
        "    tensor_two_d, axis=1, keepdims=False, name=None\n",
        "))"
      ],
      "metadata": {
        "colab": {
          "base_uri": "https://localhost:8080/"
        },
        "id": "DN-xJiENy_t6",
        "outputId": "8b0be3de-8014-4d42-fefa-82d351ab4e78"
      },
      "execution_count": 16,
      "outputs": [
        {
          "output_type": "stream",
          "name": "stdout",
          "text": [
            "tf.Tensor([ -1. 108.  12.  13.], shape=(4,), dtype=float16)\n",
            "tf.Tensor([  1. 100.   6.   8.], shape=(4,), dtype=float16)\n",
            "tf.Tensor([-0.3333 36.      4.      4.332 ], shape=(4,), dtype=float16)\n"
          ]
        }
      ]
    },
    {
      "cell_type": "markdown",
      "source": [
        "### Top k values and Linear Algebra Operations\n",
        "\n",
        "We are gonna take a look into some of the most common linear algebra operations, as well as the top k values function."
      ],
      "metadata": {
        "id": "CuS18GudzrG1"
      }
    },
    {
      "cell_type": "code",
      "source": [
        "#First part are the values of top k values\n",
        "#Second part are the indices\n",
        "tf.math.top_k(tensor_two_d, k =2)"
      ],
      "metadata": {
        "colab": {
          "base_uri": "https://localhost:8080/"
        },
        "id": "YQ19mF4OzyMr",
        "outputId": "f8ef6390-468b-4ccf-d7cb-5db95d22e3a1"
      },
      "execution_count": 17,
      "outputs": [
        {
          "output_type": "execute_result",
          "data": {
            "text/plain": [
              "TopKV2(values=<tf.Tensor: shape=(4, 2), dtype=float16, numpy=\n",
              "array([[  1.,   0.],\n",
              "       [100.,   5.],\n",
              "       [  6.,   5.],\n",
              "       [  8.,   3.]], dtype=float16)>, indices=<tf.Tensor: shape=(4, 2), dtype=int32, numpy=\n",
              "array([[0, 2],\n",
              "       [2, 1],\n",
              "       [2, 1],\n",
              "       [2, 1]], dtype=int32)>)"
            ]
          },
          "metadata": {},
          "execution_count": 17
        }
      ]
    },
    {
      "cell_type": "markdown",
      "source": [
        "### 2D Tensors Linalg"
      ],
      "metadata": {
        "id": "2KeMaGLs6p8_"
      }
    },
    {
      "cell_type": "code",
      "source": [
        "#Lets define two matrices\n",
        "X_1 = tf.constant([[1,2,0],\n",
        "                  [3,5,-1]])\n",
        "X_2 = tf.constant([[1,2,0, 2],\n",
        "                  [3,5,-1, 2],\n",
        "                  [4,5,6, 0]])\n",
        "X_3 = tf.constant([[1,2,0, 2],\n",
        "                  [3,5,-1, 2]])\n",
        "\n",
        "#Print the shapes\n",
        "print(X_1.shape)\n",
        "print(X_2.shape)\n",
        "print(X_3.shape)\n",
        "\n",
        "tf.linalg.matmul(\n",
        "    X_1,\n",
        "    X_2,\n",
        "    transpose_a=False,\n",
        "    transpose_b=False,\n",
        "    adjoint_a=False,\n",
        "    adjoint_b=False,\n",
        "    a_is_sparse=False,\n",
        "    b_is_sparse=False,\n",
        "    output_type=None,\n",
        "    grad_a=False,\n",
        "    grad_b=False,\n",
        "    name=None\n",
        ")"
      ],
      "metadata": {
        "colab": {
          "base_uri": "https://localhost:8080/"
        },
        "id": "lyTcDlC81FKU",
        "outputId": "2e060c89-7985-42ef-907e-8d5d9f242c89"
      },
      "execution_count": 18,
      "outputs": [
        {
          "output_type": "stream",
          "name": "stdout",
          "text": [
            "(2, 3)\n",
            "(3, 4)\n",
            "(2, 4)\n"
          ]
        },
        {
          "output_type": "execute_result",
          "data": {
            "text/plain": [
              "<tf.Tensor: shape=(2, 4), dtype=int32, numpy=\n",
              "array([[  7,  12,  -2,   6],\n",
              "       [ 14,  26, -11,  16]], dtype=int32)>"
            ]
          },
          "metadata": {},
          "execution_count": 18
        }
      ]
    },
    {
      "cell_type": "code",
      "source": [
        "#Multiply X_3 and X_2 transposed\n",
        "print(X_3@tf.transpose(X_2))\n",
        "\n",
        "#Do it now with the linalg.matmul\n",
        "tf.linalg.matmul(\n",
        "    X_3,\n",
        "    X_2,\n",
        "    transpose_a=False,\n",
        "    transpose_b=True,\n",
        "    adjoint_a=False,\n",
        "    adjoint_b=False,\n",
        "    a_is_sparse=False,\n",
        "    b_is_sparse=False,\n",
        "    output_type=None,\n",
        "    grad_a=False,\n",
        "    grad_b=False,\n",
        "    name=None\n",
        ")"
      ],
      "metadata": {
        "colab": {
          "base_uri": "https://localhost:8080/"
        },
        "id": "k0mlcQUt6edW",
        "outputId": "f708b9cb-e02e-424e-9e5e-32fe8f4c5c63"
      },
      "execution_count": 19,
      "outputs": [
        {
          "output_type": "stream",
          "name": "stdout",
          "text": [
            "tf.Tensor(\n",
            "[[ 9 17 14]\n",
            " [17 39 31]], shape=(2, 3), dtype=int32)\n"
          ]
        },
        {
          "output_type": "execute_result",
          "data": {
            "text/plain": [
              "<tf.Tensor: shape=(2, 3), dtype=int32, numpy=\n",
              "array([[ 9, 17, 14],\n",
              "       [17, 39, 31]], dtype=int32)>"
            ]
          },
          "metadata": {},
          "execution_count": 19
        }
      ]
    },
    {
      "cell_type": "code",
      "source": [
        "#This is to enable certain numpy behavior\n",
        "import tensorflow.experimental.numpy as tnp\n",
        "tnp.experimental_enable_numpy_behavior()\n",
        "\n",
        "### Get the transpose\n",
        "print(X_1.T)\n",
        "print(X_1@X_2)"
      ],
      "metadata": {
        "colab": {
          "base_uri": "https://localhost:8080/"
        },
        "id": "MSGrEaU_3Jjs",
        "outputId": "ce537324-c4f1-44d2-f225-ba007df4faf1"
      },
      "execution_count": 20,
      "outputs": [
        {
          "output_type": "stream",
          "name": "stdout",
          "text": [
            "tf.Tensor(\n",
            "[[ 1  3]\n",
            " [ 2  5]\n",
            " [ 0 -1]], shape=(3, 2), dtype=int32)\n",
            "tf.Tensor(\n",
            "[[  7  12  -2   6]\n",
            " [ 14  26 -11  16]], shape=(2, 4), dtype=int32)\n"
          ]
        }
      ]
    },
    {
      "cell_type": "code",
      "source": [
        "#Transpose the matrix X_1 and X_2\n",
        "tf.transpose(X_1)\n",
        "tf.transpose(X_2)"
      ],
      "metadata": {
        "colab": {
          "base_uri": "https://localhost:8080/"
        },
        "id": "bc6Iugcs4Fd_",
        "outputId": "c339aeaf-e5ff-4fb3-bd1b-7b511fcc0d8d"
      },
      "execution_count": 21,
      "outputs": [
        {
          "output_type": "execute_result",
          "data": {
            "text/plain": [
              "<tf.Tensor: shape=(4, 3), dtype=int32, numpy=\n",
              "array([[ 1,  3,  4],\n",
              "       [ 2,  5,  5],\n",
              "       [ 0, -1,  6],\n",
              "       [ 2,  2,  0]], dtype=int32)>"
            ]
          },
          "metadata": {},
          "execution_count": 21
        }
      ]
    },
    {
      "cell_type": "code",
      "source": [
        "print(X_1)\n",
        "print(X_2)"
      ],
      "metadata": {
        "colab": {
          "base_uri": "https://localhost:8080/"
        },
        "id": "94Ps2DpG4MDD",
        "outputId": "33abcfe6-a284-427e-b858-8aad78950d45"
      },
      "execution_count": 22,
      "outputs": [
        {
          "output_type": "stream",
          "name": "stdout",
          "text": [
            "tf.Tensor(\n",
            "[[ 1  2  0]\n",
            " [ 3  5 -1]], shape=(2, 3), dtype=int32)\n",
            "tf.Tensor(\n",
            "[[ 1  2  0  2]\n",
            " [ 3  5 -1  2]\n",
            " [ 4  5  6  0]], shape=(3, 4), dtype=int32)\n"
          ]
        }
      ]
    },
    {
      "cell_type": "markdown",
      "source": [
        "### 3D Tensors Linalg"
      ],
      "metadata": {
        "id": "pgF8Xdmg6smt"
      }
    },
    {
      "cell_type": "code",
      "source": [
        "#Create a two 3D matrices and perform bathc multiplication\n",
        "X_1 = tf.constant([[[1,2],\n",
        "                  [3,5,]],\n",
        "\n",
        "                  [[10,0],\n",
        "                  [1,2]],\n",
        "\n",
        "                  [[5,8],\n",
        "                  [2,7]],\n",
        "])\n",
        "\n",
        "X_2 = tf.constant([[[5,1,4],\n",
        "                  [34,15,1]],\n",
        "\n",
        "                  [[1,2,2],\n",
        "                  [5,3,2]],\n",
        "\n",
        "                  [[2,2,3],\n",
        "                  [1,1,1]],\n",
        "])\n",
        "\n",
        "#Print the dimensions\n",
        "print(X_1.shape)\n",
        "print(X_2.shape)\n",
        "\n",
        "print(tf.linalg.matmul(X_1, X_2))"
      ],
      "metadata": {
        "colab": {
          "base_uri": "https://localhost:8080/"
        },
        "id": "-otU3AtBxw64",
        "outputId": "db806b15-6356-4083-ba1f-cc42ffb7b0b2"
      },
      "execution_count": 23,
      "outputs": [
        {
          "output_type": "stream",
          "name": "stdout",
          "text": [
            "(3, 2, 2)\n",
            "(3, 2, 3)\n",
            "tf.Tensor(\n",
            "[[[ 73  31   6]\n",
            "  [185  78  17]]\n",
            "\n",
            " [[ 10  20  20]\n",
            "  [ 11   8   6]]\n",
            "\n",
            " [[ 18  18  23]\n",
            "  [ 11  11  13]]], shape=(3, 2, 3), dtype=int32)\n"
          ]
        }
      ]
    },
    {
      "cell_type": "code",
      "source": [
        "#Create a two 3D matrices\n",
        "X_1 = tf.constant([[[10,0],\n",
        "                    [1,2]]])\n",
        "\n",
        "X_2 = tf.constant([[[1,2,2],\n",
        "                    [5,3,2]]])\n",
        "\n",
        "#Print the dimensions\n",
        "print(X_1.shape)\n",
        "print(X_2.shape)\n",
        "\n",
        "print(tf.linalg.matmul(X_1, X_2))"
      ],
      "metadata": {
        "colab": {
          "base_uri": "https://localhost:8080/"
        },
        "id": "CDaO8sqxzn7L",
        "outputId": "e61cf637-72b3-4c54-c256-947908b02cb8"
      },
      "execution_count": 24,
      "outputs": [
        {
          "output_type": "stream",
          "name": "stdout",
          "text": [
            "(1, 2, 2)\n",
            "(1, 2, 3)\n",
            "tf.Tensor(\n",
            "[[[10 20 20]\n",
            "  [11  8  6]]], shape=(1, 2, 3), dtype=int32)\n"
          ]
        }
      ]
    },
    {
      "cell_type": "markdown",
      "source": [
        "### Usage of linalg sparsity with matrices, and bandpart\n"
      ],
      "metadata": {
        "id": "YBTs1vi00XeI"
      }
    },
    {
      "cell_type": "code",
      "source": [
        "#Lets define two sparse matrices\n",
        "X_1 = tf.constant([[0, 0],\n",
        "                  [0, 2]])\n",
        "X_2 = tf.constant([[1,0,0],\n",
        "                  [0,0,0]])\n",
        "\n",
        "#Lets use the sparse argument to optimize its multiplications\n",
        "print(tf.linalg.matmul(X_1, X_2, a_is_sparse=True, b_is_sparse=True))"
      ],
      "metadata": {
        "colab": {
          "base_uri": "https://localhost:8080/"
        },
        "id": "cZeA2mRh0ayx",
        "outputId": "b473fdf3-f488-4517-8c8e-bf4dc54b6488"
      },
      "execution_count": 25,
      "outputs": [
        {
          "output_type": "stream",
          "name": "stdout",
          "text": [
            "tf.Tensor(\n",
            "[[0 0 0]\n",
            " [0 0 0]], shape=(2, 3), dtype=int32)\n"
          ]
        }
      ]
    },
    {
      "cell_type": "code",
      "source": [
        "#Lets define a 2D tensor\n",
        "tensor_two_d = tf.constant([[1,-2, 0],\n",
        "                  [3,5,100],\n",
        "                  [1,5,6],\n",
        "                  [2,3,8]], dtype = tf.float16)\n",
        "\n",
        "#Lets find the band part conditioning on the position index\n",
        "#### (m-n <= lower) && (n-m <= upper)\n",
        "\n",
        "### m -- rows, n -- columns\n",
        "# m-n matrix pos:[[0, -1, -2, -3]\n",
        "#                [1, 0, -1, -2]\n",
        "#                [2, 1, 0, -1]\n",
        "#                [3, 2, 1, 0]],\n",
        "# n-m matrix pos:[[ 0,  1,  2, 3]\n",
        "#                [-1,  0,  1, 2]\n",
        "#                [-2, -1,  0, 1]\n",
        "#                [-3, -2, -1, 0]],\n",
        "\n",
        "#Lets obtain the diagonal matrix\n",
        "print(tf.linalg.band_part(tensor_two_d, 0, 0))\n",
        "\n",
        "#Lets obtain the upper diagonal matrix\n",
        "print(tf.linalg.band_part(tensor_two_d, 0, -1))\n",
        "\n",
        "#Lets obtain the lower diagonal matrix\n",
        "print(tf.linalg.band_part(tensor_two_d, -1, 0))"
      ],
      "metadata": {
        "colab": {
          "base_uri": "https://localhost:8080/"
        },
        "id": "sAgCRO0i1XxT",
        "outputId": "2dbe0317-dc7c-431d-dabb-2c1ae58155a7"
      },
      "execution_count": 26,
      "outputs": [
        {
          "output_type": "stream",
          "name": "stdout",
          "text": [
            "tf.Tensor(\n",
            "[[1. 0. 0.]\n",
            " [0. 5. 0.]\n",
            " [0. 0. 6.]\n",
            " [0. 0. 0.]], shape=(4, 3), dtype=float16)\n",
            "tf.Tensor(\n",
            "[[  1.  -2.   0.]\n",
            " [  0.   5. 100.]\n",
            " [  0.   0.   6.]\n",
            " [  0.   0.   0.]], shape=(4, 3), dtype=float16)\n",
            "tf.Tensor(\n",
            "[[1. 0. 0.]\n",
            " [3. 5. 0.]\n",
            " [1. 5. 6.]\n",
            " [2. 3. 8.]], shape=(4, 3), dtype=float16)\n"
          ]
        }
      ]
    },
    {
      "cell_type": "markdown",
      "source": [
        "### lets try to apply an inverse matrix, and singular value decomposition"
      ],
      "metadata": {
        "id": "cS3RwFB70-kK"
      }
    },
    {
      "cell_type": "code",
      "source": [
        "#Lets define a 2D tensor square matrix\n",
        "tensor_square_matrix = tf.constant([[1,-2, 0],\n",
        "                  [3,5,100],\n",
        "                  [1,5,6]], dtype = tf.float32)\n",
        "\n",
        "#Obtain the tensor inverse\n",
        "tensor_two_inv = tf.linalg.inv(tensor_square_matrix)\n",
        "\n",
        "#To confirm the inverse, multiply it to obtain identity matrix\n",
        "tensor_square_matrix @ tensor_two_inv"
      ],
      "metadata": {
        "colab": {
          "base_uri": "https://localhost:8080/"
        },
        "id": "jlo65v9c1B7j",
        "outputId": "e7d272f1-4753-4c14-9285-7861bc61eaf0"
      },
      "execution_count": 32,
      "outputs": [
        {
          "output_type": "execute_result",
          "data": {
            "text/plain": [
              "<tf.Tensor: shape=(3, 3), dtype=float32, numpy=\n",
              "array([[ 1.0000000e+00,  7.4505806e-09,  0.0000000e+00],\n",
              "       [ 1.6391277e-07,  1.0000000e+00,  4.4703484e-08],\n",
              "       [-5.2154064e-08,  7.4505806e-08,  1.0000000e+00]], dtype=float32)>"
            ]
          },
          "metadata": {},
          "execution_count": 32
        }
      ]
    },
    {
      "cell_type": "code",
      "source": [
        "#Obtain the s, u, and v\n",
        "s, u, v = tf.linalg.svd(tensor_square_matrix)\n",
        "\n",
        "#Print them\n",
        "print(s)\n",
        "print(u)\n",
        "print(v)"
      ],
      "metadata": {
        "colab": {
          "base_uri": "https://localhost:8080/"
        },
        "id": "1dlWYelZ2DLE",
        "outputId": "2a061082-02ae-43f6-a5ea-36e0f9940fc7"
      },
      "execution_count": 35,
      "outputs": [
        {
          "output_type": "stream",
          "name": "stdout",
          "text": [
            "tf.Tensor([100.3663      5.1059036   1.2371687], shape=(3,), dtype=float32)\n",
            "tf.Tensor(\n",
            "[[-7.4980810e-04 -3.7569830e-01  9.2674178e-01]\n",
            " [ 9.9803799e-01 -5.8300879e-02 -2.2827482e-02]\n",
            " [ 6.2606096e-02  9.2490643e-01  3.7500489e-01]], shape=(3, 3), dtype=float32)\n",
            "tf.Tensor(\n",
            "[[ 0.03044816  0.07330841  0.99684453]\n",
            " [ 0.0528536   0.9957936  -0.07484547]\n",
            " [ 0.998138   -0.05496572 -0.02644547]], shape=(3, 3), dtype=float32)\n"
          ]
        }
      ]
    }
  ]
}